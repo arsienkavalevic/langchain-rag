{
 "cells": [
  {
   "cell_type": "markdown",
   "id": "4270c7b9-7bd4-4905-8d2d-869d31f64106",
   "metadata": {},
   "source": [
    "### Imports"
   ]
  },
  {
   "cell_type": "code",
   "execution_count": null,
   "id": "0ee53285-af21-49cf-b529-4545d7c46de1",
   "metadata": {
    "tags": []
   },
   "outputs": [],
   "source": [
    "import os\n",
    "import bs4\n",
    "import json\n",
    "from typing import Union, Optional, Callable, Dict, List, Any\n",
    "from pathlib import Path\n",
    "from langchain import hub\n",
    "from langchain.text_splitter import RecursiveCharacterTextSplitter, RecursiveJsonSplitter\n",
    "from langchain_community.document_loaders import WebBaseLoader, DirectoryLoader, TextLoader\n",
    "from langchain_core.document_loaders import BaseLoader\n",
    "from langchain_core.documents import Document\n",
    "from langchain_community.vectorstores import Chroma\n",
    "from langchain_core.output_parsers import StrOutputParser\n",
    "from langchain_core.runnables import RunnablePassthrough\n",
    "from langchain_openai import ChatOpenAI, OpenAIEmbeddings"
   ]
  },
  {
   "cell_type": "markdown",
   "id": "697a5ac4-d518-4675-a8ab-1f9e7a692b11",
   "metadata": {},
   "source": [
    "### API Keys"
   ]
  },
  {
   "cell_type": "code",
   "execution_count": null,
   "id": "407b5b61-df77-4046-a90e-d27dbad81a56",
   "metadata": {},
   "outputs": [],
   "source": [
    "os.environ['OPENAI_API_KEY'] = ''"
   ]
  },
  {
   "cell_type": "markdown",
   "id": "1a6991c4-12ce-41a9-a4a8-456a063527f0",
   "metadata": {},
   "source": [
    "### Paths"
   ]
  },
  {
   "cell_type": "code",
   "execution_count": null,
   "id": "5990ad19-1e5f-4474-ac17-f0df615c8a68",
   "metadata": {},
   "outputs": [],
   "source": [
    "CHROMA_PATH='../chroma'\n",
    "DATA_PATH='../data/'"
   ]
  },
  {
   "cell_type": "markdown",
   "id": "de22c6cb-63a8-45ea-9fc0-b8df36cea7bf",
   "metadata": {},
   "source": [
    "# Indexing"
   ]
  },
  {
   "cell_type": "markdown",
   "id": "2e644de6-9c47-41bc-9800-4990c010d769",
   "metadata": {},
   "source": [
    "### Load Documents"
   ]
  },
  {
   "cell_type": "code",
   "execution_count": null,
   "id": "a3b67534-2414-4c1d-97cf-3194e4536c4a",
   "metadata": {},
   "outputs": [],
   "source": [
    "txt_paths = [\n",
    "    DATA_PATH + 'sample1.txt',\n",
    "    DATA_PATH + 'sample2.txt',\n",
    "    DATA_PATH + 'sample3.txt'\n",
    "]\n",
    "\n",
    "json_paths = [\n",
    "    DATA_PATH + 'sample1.json',\n",
    "    DATA_PATH + 'sample2.json',\n",
    "    DATA_PATH + 'sample3.json'\n",
    "]\n",
    "\n",
    "txts = [TextLoader(path).load() for path in txt_paths]\n",
    "txt_docs = [item for sublist in txts for item in sublist]\n",
    "\n",
    "json_docs = []\n",
    "for path in json_paths:\n",
    "    with open(path, 'r', encoding='utf-8') as file:\n",
    "        json_docs += [json.load(file)]\n",
    "\n",
    "len(txt_docs), len(json_docs)"
   ]
  },
  {
   "cell_type": "markdown",
   "id": "d6f8e718-cd80-449c-adfc-2b448e343a95",
   "metadata": {},
   "source": [
    "### Split"
   ]
  },
  {
   "cell_type": "code",
   "execution_count": null,
   "id": "e05c46fb-1e3f-4e95-967f-6845119e2902",
   "metadata": {},
   "outputs": [],
   "source": [
    "text_splitter = RecursiveCharacterTextSplitter(\n",
    "    chunk_size=2000, chunk_overlap=0\n",
    ")\n",
    "txt_chunks = text_splitter.split_documents(txt_docs)"
   ]
  },
  {
   "cell_type": "code",
   "execution_count": null,
   "id": "20b7f112-23ff-47b7-891f-1d26333f7465",
   "metadata": {},
   "outputs": [],
   "source": [
    "txt_chunks[0]"
   ]
  },
  {
   "cell_type": "code",
   "execution_count": null,
   "id": "399ba917-c4d2-4b2f-a33b-180d17967d27",
   "metadata": {},
   "outputs": [],
   "source": [
    "json_splitter = RecursiveJsonSplitter(\n",
    "    max_chunk_size=2000\n",
    ")\n",
    "json_chunks = json_splitter.create_documents(json_docs, ensure_ascii=False)"
   ]
  },
  {
   "cell_type": "code",
   "execution_count": null,
   "id": "466c08cb-1080-4b54-ae22-b481e7910ef8",
   "metadata": {},
   "outputs": [],
   "source": [
    "json_chunks[0]"
   ]
  },
  {
   "cell_type": "code",
   "execution_count": null,
   "id": "4b53e841-aafd-42ab-a776-785e1e2a0a7a",
   "metadata": {},
   "outputs": [],
   "source": [
    "chunks = txt_chunks + json_chunks"
   ]
  },
  {
   "cell_type": "code",
   "execution_count": null,
   "id": "ffa0d7da-7968-4223-a251-5d34bbc2c61c",
   "metadata": {},
   "outputs": [],
   "source": [
    "len(chunks)"
   ]
  },
  {
   "cell_type": "markdown",
   "id": "0119c4c5-6e4e-44b2-9792-4743fbeeacbb",
   "metadata": {},
   "source": [
    "### Embed"
   ]
  },
  {
   "cell_type": "code",
   "execution_count": null,
   "id": "3a7b81b5-a421-48f2-b4e1-f879ba0b4f4d",
   "metadata": {},
   "outputs": [],
   "source": [
    "vectorstore = Chroma.from_documents(documents=chunks, \n",
    "                                    embedding=OpenAIEmbeddings())\n",
    "\n",
    "retriever = vectorstore.as_retriever()"
   ]
  },
  {
   "cell_type": "markdown",
   "id": "362e4fea-7d61-4fdd-a361-e6bca5df862e",
   "metadata": {},
   "source": [
    "# Retrieval and Generation"
   ]
  },
  {
   "cell_type": "code",
   "execution_count": null,
   "id": "1473b9ba-53c1-43dd-aad0-f6260d9e0081",
   "metadata": {},
   "outputs": [],
   "source": [
    "# Prompt\n",
    "prompt = hub.pull(\"rlm/rag-prompt\")\n",
    "\n",
    "# LLM\n",
    "llm = ChatOpenAI(model_name=\"gpt-3.5-turbo\", temperature=0)\n",
    "\n",
    "# Post-processing\n",
    "def format_docs(docs):\n",
    "    return \"\\n\\n\".join(doc.page_content for doc in docs)\n",
    "\n",
    "# Chain\n",
    "rag_chain = (\n",
    "    {\"context\": retriever | format_docs, \"question\": RunnablePassthrough()}\n",
    "    | prompt\n",
    "    | llm\n",
    "    | StrOutputParser()\n",
    ")\n",
    "\n",
    "# Question\n",
    "rag_chain.invoke(\"What is Task Decomposition?\")"
   ]
  }
 ],
 "metadata": {
  "kernelspec": {
   "display_name": "Python 3 (ipykernel)",
   "language": "python",
   "name": "python3"
  },
  "language_info": {
   "codemirror_mode": {
    "name": "ipython",
    "version": 3
   },
   "file_extension": ".py",
   "mimetype": "text/x-python",
   "name": "python",
   "nbconvert_exporter": "python",
   "pygments_lexer": "ipython3",
   "version": "3.9.16"
  }
 },
 "nbformat": 4,
 "nbformat_minor": 5
}
